{
 "cells": [
  {
   "cell_type": "markdown",
   "id": "edeb3c50",
   "metadata": {},
   "source": [
    "# If you’re given two lists:A = [1,2,3,4,5,6], B = [13, 21, 34] The task is to create a list with the elements of A and B in a single dimension with output:A_B = [1,2,3,4,5,6,13, 21, 34] Which of the following option is the best way to create this list?\n",
    "Options\n",
    "* All of the above\n",
    "\n",
    "* A.extend(B)\n",
    "\n",
    "* Any of the above\n",
    "\n",
    "* A.append(B)\n",
    "\n",
    "* None of the above"
   ]
  },
  {
   "cell_type": "code",
   "execution_count": 115,
   "id": "98a8473c",
   "metadata": {},
   "outputs": [],
   "source": [
    "import numpy as np\n",
    "import pandas as pd\n",
    "import seaborn as sns\n",
    "import matplotlib.pyplot as plt"
   ]
  },
  {
   "cell_type": "code",
   "execution_count": 79,
   "id": "e8dd30e8",
   "metadata": {},
   "outputs": [
    {
     "name": "stdout",
     "output_type": "stream",
     "text": [
      "None\n",
      "None\n"
     ]
    }
   ],
   "source": [
    "A=[1,2,3,4,5,6]\n",
    "B =[13,21,34]\n",
    "print(A.append(B))\n",
    "print(A.extend(B))"
   ]
  },
  {
   "cell_type": "markdown",
   "id": "4c565c86",
   "metadata": {},
   "source": [
    "## Ans: None of the above"
   ]
  },
  {
   "cell_type": "markdown",
   "id": "4293e6b3",
   "metadata": {},
   "source": [
    "# How do you create an identity matrix in python?\n",
    "Options\n",
    "* np.identity(3)\n",
    "\n",
    "* np.array([1,0,0],[0,1,0],[0,0,1])\n",
    "\n",
    "* np.array[(1,0,0),(0,1,0),(0,0,1)]\n",
    "\n",
    "* eye(3)\n",
    "\n",
    "* All of the above"
   ]
  },
  {
   "cell_type": "code",
   "execution_count": 80,
   "id": "1f5d0b4a",
   "metadata": {},
   "outputs": [
    {
     "data": {
      "text/plain": [
       "array([[1., 0., 0.],\n",
       "       [0., 1., 0.],\n",
       "       [0., 0., 1.]])"
      ]
     },
     "execution_count": 80,
     "metadata": {},
     "output_type": "execute_result"
    }
   ],
   "source": [
    "np.identity(3)"
   ]
  },
  {
   "cell_type": "markdown",
   "id": "0f972f51",
   "metadata": {},
   "source": [
    "## Ans: np.identity(3)"
   ]
  },
  {
   "cell_type": "markdown",
   "id": "3e37a0bc",
   "metadata": {},
   "source": [
    "# Which of the following fuel type code has the lowest average fuel cost per unit burned?\n",
    "Options\n",
    "* Oil\n",
    "\n",
    "* None of the above\n",
    "\n",
    "* Gas\n",
    "\n",
    "* Waste\n",
    "\n",
    "* Coal"
   ]
  },
  {
   "cell_type": "code",
   "execution_count": 81,
   "id": "d28d1421",
   "metadata": {},
   "outputs": [
    {
     "data": {
      "text/html": [
       "<div>\n",
       "<style scoped>\n",
       "    .dataframe tbody tr th:only-of-type {\n",
       "        vertical-align: middle;\n",
       "    }\n",
       "\n",
       "    .dataframe tbody tr th {\n",
       "        vertical-align: top;\n",
       "    }\n",
       "\n",
       "    .dataframe thead th {\n",
       "        text-align: right;\n",
       "    }\n",
       "</style>\n",
       "<table border=\"1\" class=\"dataframe\">\n",
       "  <thead>\n",
       "    <tr style=\"text-align: right;\">\n",
       "      <th></th>\n",
       "      <th>record_id</th>\n",
       "      <th>utility_id_ferc1</th>\n",
       "      <th>report_year</th>\n",
       "      <th>plant_name_ferc1</th>\n",
       "      <th>fuel_type_code_pudl</th>\n",
       "      <th>fuel_unit</th>\n",
       "      <th>fuel_qty_burned</th>\n",
       "      <th>fuel_mmbtu_per_unit</th>\n",
       "      <th>fuel_cost_per_unit_burned</th>\n",
       "      <th>fuel_cost_per_unit_delivered</th>\n",
       "      <th>fuel_cost_per_mmbtu</th>\n",
       "    </tr>\n",
       "  </thead>\n",
       "  <tbody>\n",
       "    <tr>\n",
       "      <th>0</th>\n",
       "      <td>f1_fuel_1994_12_1_0_7</td>\n",
       "      <td>1</td>\n",
       "      <td>1994</td>\n",
       "      <td>rockport</td>\n",
       "      <td>coal</td>\n",
       "      <td>ton</td>\n",
       "      <td>5377489.0</td>\n",
       "      <td>16.590</td>\n",
       "      <td>18.59</td>\n",
       "      <td>18.53</td>\n",
       "      <td>1.121</td>\n",
       "    </tr>\n",
       "    <tr>\n",
       "      <th>1</th>\n",
       "      <td>f1_fuel_1994_12_1_0_10</td>\n",
       "      <td>1</td>\n",
       "      <td>1994</td>\n",
       "      <td>rockport total plant</td>\n",
       "      <td>coal</td>\n",
       "      <td>ton</td>\n",
       "      <td>10486945.0</td>\n",
       "      <td>16.592</td>\n",
       "      <td>18.58</td>\n",
       "      <td>18.53</td>\n",
       "      <td>1.120</td>\n",
       "    </tr>\n",
       "    <tr>\n",
       "      <th>2</th>\n",
       "      <td>f1_fuel_1994_12_2_0_1</td>\n",
       "      <td>2</td>\n",
       "      <td>1994</td>\n",
       "      <td>gorgas</td>\n",
       "      <td>coal</td>\n",
       "      <td>ton</td>\n",
       "      <td>2978683.0</td>\n",
       "      <td>24.130</td>\n",
       "      <td>39.72</td>\n",
       "      <td>38.12</td>\n",
       "      <td>1.650</td>\n",
       "    </tr>\n",
       "    <tr>\n",
       "      <th>3</th>\n",
       "      <td>f1_fuel_1994_12_2_0_7</td>\n",
       "      <td>2</td>\n",
       "      <td>1994</td>\n",
       "      <td>barry</td>\n",
       "      <td>coal</td>\n",
       "      <td>ton</td>\n",
       "      <td>3739484.0</td>\n",
       "      <td>23.950</td>\n",
       "      <td>47.21</td>\n",
       "      <td>45.99</td>\n",
       "      <td>1.970</td>\n",
       "    </tr>\n",
       "    <tr>\n",
       "      <th>4</th>\n",
       "      <td>f1_fuel_1994_12_2_0_10</td>\n",
       "      <td>2</td>\n",
       "      <td>1994</td>\n",
       "      <td>chickasaw</td>\n",
       "      <td>gas</td>\n",
       "      <td>mcf</td>\n",
       "      <td>40533.0</td>\n",
       "      <td>1.000</td>\n",
       "      <td>2.77</td>\n",
       "      <td>2.77</td>\n",
       "      <td>2.570</td>\n",
       "    </tr>\n",
       "  </tbody>\n",
       "</table>\n",
       "</div>"
      ],
      "text/plain": [
       "                record_id  utility_id_ferc1  report_year  \\\n",
       "0   f1_fuel_1994_12_1_0_7                 1         1994   \n",
       "1  f1_fuel_1994_12_1_0_10                 1         1994   \n",
       "2   f1_fuel_1994_12_2_0_1                 2         1994   \n",
       "3   f1_fuel_1994_12_2_0_7                 2         1994   \n",
       "4  f1_fuel_1994_12_2_0_10                 2         1994   \n",
       "\n",
       "       plant_name_ferc1 fuel_type_code_pudl fuel_unit  fuel_qty_burned  \\\n",
       "0              rockport                coal       ton        5377489.0   \n",
       "1  rockport total plant                coal       ton       10486945.0   \n",
       "2                gorgas                coal       ton        2978683.0   \n",
       "3                 barry                coal       ton        3739484.0   \n",
       "4             chickasaw                 gas       mcf          40533.0   \n",
       "\n",
       "   fuel_mmbtu_per_unit  fuel_cost_per_unit_burned  \\\n",
       "0               16.590                      18.59   \n",
       "1               16.592                      18.58   \n",
       "2               24.130                      39.72   \n",
       "3               23.950                      47.21   \n",
       "4                1.000                       2.77   \n",
       "\n",
       "   fuel_cost_per_unit_delivered  fuel_cost_per_mmbtu  \n",
       "0                         18.53                1.121  \n",
       "1                         18.53                1.120  \n",
       "2                         38.12                1.650  \n",
       "3                         45.99                1.970  \n",
       "4                          2.77                2.570  "
      ]
     },
     "execution_count": 81,
     "metadata": {},
     "output_type": "execute_result"
    }
   ],
   "source": [
    "#Loading the dataset from url\n",
    "url = \"https://raw.githubusercontent.com/WalePhenomenon/climate_change/master/fuel_ferc1.csv\"\n",
    "data = pd.read_csv(url, error_bad_lines=False)\n",
    "data.head()"
   ]
  },
  {
   "cell_type": "code",
   "execution_count": 85,
   "id": "4441523c",
   "metadata": {},
   "outputs": [
    {
     "data": {
      "text/plain": [
       "fuel_type_code_pudl\n",
       "coal         67.421830\n",
       "gas          13.659397\n",
       "nuclear    4955.157002\n",
       "oil         168.877086\n",
       "other        18.253856\n",
       "waste        19.518122\n",
       "Name: fuel_cost_per_unit_burned, dtype: float64"
      ]
     },
     "execution_count": 85,
     "metadata": {},
     "output_type": "execute_result"
    }
   ],
   "source": [
    "data.groupby('fuel_type_code_pudl')[\"fuel_cost_per_unit_burned\"].mean()"
   ]
  },
  {
   "cell_type": "markdown",
   "id": "39ae40c6",
   "metadata": {},
   "source": [
    "## Ans: Gas"
   ]
  },
  {
   "cell_type": "markdown",
   "id": "2f223712",
   "metadata": {},
   "source": [
    "# What is the standard deviation and 75th percentile of the measure of energy per unit (Fuel_mmbtu_per_unit) in two decimal places?\n",
    "Options\n",
    "* 10.60 and 17.01\n",
    "\n",
    "* 10.60 and 8.49\n",
    "\n",
    "* 8.49 and 17.01\n",
    "\n",
    "* 5.76 and 8.49\n",
    "\n",
    "* 5.76 and 10.60"
   ]
  },
  {
   "cell_type": "code",
   "execution_count": 90,
   "id": "0063e21b",
   "metadata": {},
   "outputs": [
    {
     "data": {
      "text/plain": [
       "count    29523.00\n",
       "mean         8.49\n",
       "std         10.60\n",
       "min          0.00\n",
       "25%          1.02\n",
       "50%          5.76\n",
       "75%         17.01\n",
       "max        341.26\n",
       "Name: fuel_mmbtu_per_unit, dtype: float64"
      ]
     },
     "execution_count": 90,
     "metadata": {},
     "output_type": "execute_result"
    }
   ],
   "source": [
    "data.describe()[\"fuel_mmbtu_per_unit\"].round(2)"
   ]
  },
  {
   "cell_type": "markdown",
   "id": "a61dd8d3",
   "metadata": {},
   "source": [
    "## Ans: std: 10.60 and 75th percentile: 17.01"
   ]
  },
  {
   "cell_type": "markdown",
   "id": "916f130d",
   "metadata": {},
   "source": [
    "# What is the skewness and kurtosis for the fuel quantity burned in two decimal places?\n",
    "Options\n",
    "* 14.74 and 400.71\n",
    "\n",
    "* 30.63 and 400.71\n",
    "\n",
    "* 15.95 and 551.73\n",
    "\n",
    "* 15.85 and 651.37\n",
    "\n",
    "* 30.61 and 551.73"
   ]
  },
  {
   "cell_type": "code",
   "execution_count": 91,
   "id": "cd440af9",
   "metadata": {},
   "outputs": [
    {
     "data": {
      "text/plain": [
       "15.85"
      ]
     },
     "execution_count": 91,
     "metadata": {},
     "output_type": "execute_result"
    }
   ],
   "source": [
    "data[\"fuel_qty_burned\"].skew().round(2)"
   ]
  },
  {
   "cell_type": "code",
   "execution_count": 92,
   "id": "b693a3c8",
   "metadata": {},
   "outputs": [
    {
     "data": {
      "text/plain": [
       "651.37"
      ]
     },
     "execution_count": 92,
     "metadata": {},
     "output_type": "execute_result"
    }
   ],
   "source": [
    "data[\"fuel_qty_burned\"].kurt().round(2)"
   ]
  },
  {
   "cell_type": "markdown",
   "id": "c96a91f9",
   "metadata": {},
   "source": [
    "## Ans:skewness: 15.85  and kurtosis: 651.37"
   ]
  },
  {
   "cell_type": "markdown",
   "id": "b4a83602",
   "metadata": {},
   "source": [
    "# Which feature has missing values and what is the total number of missing value and percentage of the missing rows as a factor of the total number of rows in three decimal places?"
   ]
  },
  {
   "cell_type": "code",
   "execution_count": 95,
   "id": "99d4b88e",
   "metadata": {},
   "outputs": [
    {
     "data": {
      "text/plain": [
       "record_id                         0\n",
       "utility_id_ferc1                  0\n",
       "report_year                       0\n",
       "plant_name_ferc1                  0\n",
       "fuel_type_code_pudl               0\n",
       "fuel_unit                       180\n",
       "fuel_qty_burned                   0\n",
       "fuel_mmbtu_per_unit               0\n",
       "fuel_cost_per_unit_burned         0\n",
       "fuel_cost_per_unit_delivered      0\n",
       "fuel_cost_per_mmbtu               0\n",
       "dtype: int64"
      ]
     },
     "execution_count": 95,
     "metadata": {},
     "output_type": "execute_result"
    }
   ],
   "source": [
    "data.isna().sum()"
   ]
  },
  {
   "cell_type": "code",
   "execution_count": 110,
   "id": "d0587458",
   "metadata": {},
   "outputs": [
    {
     "data": {
      "text/plain": [
       "record_id                       0.00\n",
       "utility_id_ferc1                0.00\n",
       "report_year                     0.00\n",
       "plant_name_ferc1                0.00\n",
       "fuel_type_code_pudl             0.00\n",
       "fuel_unit                       0.61\n",
       "fuel_qty_burned                 0.00\n",
       "fuel_mmbtu_per_unit             0.00\n",
       "fuel_cost_per_unit_burned       0.00\n",
       "fuel_cost_per_unit_delivered    0.00\n",
       "fuel_cost_per_mmbtu             0.00\n",
       "dtype: float64"
      ]
     },
     "execution_count": 110,
     "metadata": {},
     "output_type": "execute_result"
    }
   ],
   "source": [
    "(data.isna().mean()* 100).round(3)"
   ]
  },
  {
   "cell_type": "markdown",
   "id": "833d7404",
   "metadata": {},
   "source": [
    "## Ans: Feature: fuel_unit, Total:180, Percent:0.61"
   ]
  },
  {
   "cell_type": "markdown",
   "id": "f8cf68ff",
   "metadata": {},
   "source": [
    "# The feature with missing values falls under what category? What missing value imputation technique would you use?\n",
    "\n",
    "Options\n",
    "* None of the above\n",
    "\n",
    "* Numerical and mode imputation\n",
    "\n",
    "* Categorical and mode imputation\n",
    "\n",
    "* Numerical and mean imputation\n",
    "\n",
    "* Categorical and mean imputation"
   ]
  },
  {
   "cell_type": "code",
   "execution_count": 40,
   "id": "692d9b14",
   "metadata": {},
   "outputs": [
    {
     "data": {
      "text/plain": [
       "mcf       11354\n",
       "ton        8958\n",
       "bbl        7998\n",
       "gramsU      464\n",
       "mmbtu       180\n",
       "kgU         110\n",
       "mwhth       100\n",
       "mwdth        95\n",
       "gal          84\n",
       "Name: fuel_unit, dtype: int64"
      ]
     },
     "execution_count": 40,
     "metadata": {},
     "output_type": "execute_result"
    }
   ],
   "source": [
    "data[\"fuel_unit\"].value_counts()"
   ]
  },
  {
   "cell_type": "code",
   "execution_count": 112,
   "id": "c696915e",
   "metadata": {},
   "outputs": [],
   "source": [
    "data[\"fuel_unit\"] = data[\"fuel_unit\"].fillna(value=\"mcf\")"
   ]
  },
  {
   "cell_type": "code",
   "execution_count": 113,
   "id": "c6be588a",
   "metadata": {},
   "outputs": [
    {
     "data": {
      "text/plain": [
       "record_id                       0\n",
       "utility_id_ferc1                0\n",
       "report_year                     0\n",
       "plant_name_ferc1                0\n",
       "fuel_type_code_pudl             0\n",
       "fuel_unit                       0\n",
       "fuel_qty_burned                 0\n",
       "fuel_mmbtu_per_unit             0\n",
       "fuel_cost_per_unit_burned       0\n",
       "fuel_cost_per_unit_delivered    0\n",
       "fuel_cost_per_mmbtu             0\n",
       "dtype: int64"
      ]
     },
     "execution_count": 113,
     "metadata": {},
     "output_type": "execute_result"
    }
   ],
   "source": [
    "data.isna().sum()"
   ]
  },
  {
   "cell_type": "markdown",
   "id": "52e27988",
   "metadata": {},
   "source": [
    "## Ans: Categorical and mode imputation"
   ]
  },
  {
   "cell_type": "markdown",
   "id": "274504b0",
   "metadata": {},
   "source": [
    "# Which of the features has the second and third lowest correlation with the Fuel Cost Per Unit Burned?\n",
    "\n",
    "Options\n",
    "* fuel_qty_burned and fuel_mmbtu_per_unit\n",
    "\n",
    "* Fuel_qty_burned and fuel_cost_per_unit_delivered\n",
    "\n",
    "* Fuel_mmbtu_per_unit and fuel_cost_per_unit_delivered\n",
    "\n",
    "* report_year and utility_id_ferc1\n",
    "\n",
    "* Fuel_cost_per_unit_delivered and utility_id_ferc1"
   ]
  },
  {
   "cell_type": "code",
   "execution_count": 118,
   "id": "6de8d58b",
   "metadata": {},
   "outputs": [
    {
     "data": {
      "text/plain": [
       "<matplotlib.axes._subplots.AxesSubplot at 0xf63d365208>"
      ]
     },
     "execution_count": 118,
     "metadata": {},
     "output_type": "execute_result"
    },
    {
     "data": {
      "image/png": "[encoded data removed]",
      "text/plain": [
       "<Figure size 720x720 with 2 Axes>"
      ]
     },
     "metadata": {
      "needs_background": "light"
     },
     "output_type": "display_data"
    }
   ],
   "source": [
    "#Visualize the correlation\n",
    "plt.figure(figsize = (10,10))\n",
    "sns.heatmap(data.corr(),annot=True, fmt='.2%', cmap='Blues')"
   ]
  },
  {
   "cell_type": "markdown",
   "id": "4a2e3b71",
   "metadata": {},
   "source": [
    "## Ans: fuel_qty_burned and fuel_mmbtu_per_unit"
   ]
  },
  {
   "cell_type": "markdown",
   "id": "b13fe8fc",
   "metadata": {},
   "source": [
    "# For the fuel type coal, what is the percentage change in the fuel cost per unit burned in 1998 compared to 1994?\n",
    "Options\n",
    "* -18%\n",
    "\n",
    "* -21%\n",
    "\n",
    "* None of the above\n",
    "\n",
    "* 21%\n",
    "\n",
    "* 18%"
   ]
  },
  {
   "cell_type": "code",
   "execution_count": 167,
   "id": "ece2db13",
   "metadata": {},
   "outputs": [
    {
     "name": "stdout",
     "output_type": "stream",
     "text": [
      "68.44643926861661\n"
     ]
    }
   ],
   "source": [
    "df =data[(data['fuel_type_code_pudl'] == \"coal\") & (data['report_year'] == 1994)][['report_year', 'fuel_cost_per_unit_burned']]\n",
    "df1 = data[(data['fuel_type_code_pudl'] == \"coal\") & (data['report_year'] == 1998)][['report_year', 'fuel_cost_per_unit_burned']]\n",
    "df.set_index(\"report_year\", inplace=True)\n",
    "df1.set_index(\"report_year\", inplace=True)\n",
    "print(df1.pct_change()[\"fuel_cost_per_unit_burned\"].sum() - df.pct_change()[\"fuel_cost_per_unit_burned\"].sum())"
   ]
  },
  {
   "cell_type": "markdown",
   "id": "133cb968",
   "metadata": {},
   "source": [
    "## Ans: None of the above"
   ]
  },
  {
   "cell_type": "markdown",
   "id": "1fbfa851",
   "metadata": {},
   "source": [
    "# Which year has the highest average fuel cost per unit delivered?\n",
    "\n",
    "Options\n",
    "* 2018\n",
    "\n",
    "* 2004\n",
    "\n",
    "* 1997\n",
    "\n",
    "* 2009\n",
    "\n",
    "* 1996"
   ]
  },
  {
   "cell_type": "code",
   "execution_count": 120,
   "id": "d0602f04",
   "metadata": {},
   "outputs": [
    {
     "data": {
      "text/plain": [
       "report_year\n",
       "1994    1235\n",
       "1995    1201\n",
       "1996    1088\n",
       "1997    1094\n",
       "1998    1107\n",
       "1999    1050\n",
       "2000    1373\n",
       "2001    1356\n",
       "2002    1205\n",
       "2003    1211\n",
       "2004    1192\n",
       "2005    1269\n",
       "2006    1243\n",
       "2007    1264\n",
       "2008    1228\n",
       "2009    1222\n",
       "2010    1261\n",
       "2011    1240\n",
       "2012    1243\n",
       "2013    1199\n",
       "2014    1171\n",
       "2015    1093\n",
       "2016    1034\n",
       "2017     993\n",
       "2018     951\n",
       "Name: fuel_cost_per_unit_delivered, dtype: int64"
      ]
     },
     "execution_count": 120,
     "metadata": {},
     "output_type": "execute_result"
    }
   ],
   "source": [
    "data.groupby(\"report_year\")[\"fuel_cost_per_unit_delivered\"].count()"
   ]
  },
  {
   "cell_type": "markdown",
   "id": "418b8fa4",
   "metadata": {},
   "source": [
    "## Ans: 2009"
   ]
  }
 ],
 "metadata": {
  "kernelspec": {
   "display_name": "Python 3",
   "language": "python",
   "name": "python3"
  },
  "language_info": {
   "codemirror_mode": {
    "name": "ipython",
    "version": 3
   },
   "file_extension": ".py",
   "mimetype": "text/x-python",
   "name": "python",
   "nbconvert_exporter": "python",
   "pygments_lexer": "ipython3",
   "version": "3.7.0"
  }
 },
 "nbformat": 4,
 "nbformat_minor": 5
}
